{
 "cells": [
  {
   "cell_type": "code",
   "execution_count": 59,
   "metadata": {},
   "outputs": [],
   "source": [
    "# LIBRARIES\n",
    "import pandas as pd\n",
    "import json"
   ]
  },
  {
   "cell_type": "code",
   "execution_count": 60,
   "metadata": {},
   "outputs": [],
   "source": [
    "# DATA ACQUISITION\n",
    "data = pd.read_csv('https://raw.githubusercontent.com/juvenalfonseca/python/master/datasets/campeonato-brasileiro-pontos-corridos-2003-2020-jogos.csv', delimiter = ';')\n",
    "#data_p = pd.read_csv('https://raw.githubusercontent.com/juvenalfonseca/python/master/datasets/campeonato-brasileiro-pontos-corridos-2003-2020-periodo.csv', delimiter = ';')"
   ]
  },
  {
   "cell_type": "code",
   "execution_count": 61,
   "metadata": {},
   "outputs": [],
   "source": [
    "# DATA PREPARING\n",
    "data['Ano'] = data['Data'].str.slice(start=6,stop=10)\n",
    "data['Ano'] = data['Ano'].str.replace('2021','2020')\n",
    "\n",
    "data = data[['Rodada','Mandante','Visitante','Vencedor','Mandante Placar','Visitante Placar','Ano']].sort_values(by=['Rodada'])"
   ]
  },
  {
   "cell_type": "code",
   "execution_count": 63,
   "metadata": {},
   "outputs": [],
   "source": [
    "pontos = []\n",
    "for i in data.index:\n",
    "    if data['Vencedor'][i] == '-':\n",
    "        pontos.append([data['Ano'][i], data['Rodada'][i], data['Mandante'][i], 1])\n",
    "        pontos.append([data['Ano'][i], data['Rodada'][i], data['Visitante'][i], 1])\n",
    "\n",
    "    elif data['Vencedor'][i] == data['Mandante'][i]:\n",
    "        pontos.append([data['Ano'][i], data['Rodada'][i], data['Mandante'][i], 3])\n",
    "        pontos.append([data['Ano'][i], data['Rodada'][i], data['Visitante'][i], 0])\n",
    "\n",
    "    elif data['Vencedor'][i] == data['Visitante'][i]:\n",
    "        pontos.append([data['Ano'][i], data['Rodada'][i], data['Mandante'][i], 0])\n",
    "        pontos.append([data['Ano'][i], data['Rodada'][i], data['Visitante'][i], 3])"
   ]
  },
  {
   "cell_type": "code",
   "execution_count": 64,
   "metadata": {},
   "outputs": [],
   "source": [
    "df_p = pd.DataFrame(pontos, columns=['Ano','Rodada','Time','Pontos'])"
   ]
  },
  {
   "cell_type": "code",
   "execution_count": 65,
   "metadata": {},
   "outputs": [],
   "source": [
    "ano = df_p['Ano'].unique().tolist()\n",
    "for a in ano:\n",
    "    subset_1 = df_p.loc[df_p['Ano'] == a]\n",
    "    times = subset_1['Time'].unique().tolist()\n",
    "    for b in times:\n",
    "        i = max(subset_1['Rodada'])\n",
    "        while i > 0:\n",
    "            subset = subset_1.loc[(subset_1['Rodada'] <= i) & (subset_1['Time'] == b)]\n",
    "            df_p.loc[(df_p['Ano'] == a) & (df_p['Rodada'] == i) & (df_p['Time'] == b), 'PontosAcum'] = subset['Pontos'].sum()\n",
    "            i = i-1"
   ]
  },
  {
   "cell_type": "code",
   "execution_count": 66,
   "metadata": {},
   "outputs": [],
   "source": [
    "df_p_2020 = df_p.loc[df_p['Ano'] == '2020']"
   ]
  },
  {
   "cell_type": "code",
   "execution_count": 67,
   "metadata": {},
   "outputs": [],
   "source": [
    "df_f = pd.concat([pd.DataFrame([df_p_2020.columns.tolist()], columns=df_p_2020.columns.tolist()), df_p_2020])"
   ]
  },
  {
   "cell_type": "code",
   "execution_count": 68,
   "metadata": {},
   "outputs": [],
   "source": [
    "# DATA EXPORT\n",
    "result = df_f.to_json(orient='values')\n",
    "parsed = json.loads(result)\n",
    "with open('sbrasileirao.json', 'w', encoding='utf-8') as f:\n",
    "    json.dump(parsed, f, ensure_ascii=False)"
   ]
  }
 ],
 "metadata": {
  "interpreter": {
   "hash": "072b90c45af39c4ac81cbc51f5e933213fac125177b175521b1575c9e1d6601f"
  },
  "kernelspec": {
   "display_name": "Python 3.9.7 64-bit",
   "language": "python",
   "name": "python3"
  },
  "language_info": {
   "codemirror_mode": {
    "name": "ipython",
    "version": 3
   },
   "file_extension": ".py",
   "mimetype": "text/x-python",
   "name": "python",
   "nbconvert_exporter": "python",
   "pygments_lexer": "ipython3",
   "version": "3.9.7"
  },
  "orig_nbformat": 4
 },
 "nbformat": 4,
 "nbformat_minor": 2
}
